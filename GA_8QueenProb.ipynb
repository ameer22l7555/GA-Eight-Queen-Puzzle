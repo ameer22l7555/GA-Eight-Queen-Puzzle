{
  "nbformat": 4,
  "nbformat_minor": 0,
  "metadata": {
    "colab": {
      "provenance": []
    },
    "kernelspec": {
      "name": "python3",
      "display_name": "Python 3"
    },
    "language_info": {
      "name": "python"
    }
  },
  "cells": [
    {
      "cell_type": "code",
      "source": [
        "import random\n",
        "import matplotlib.pyplot as plt"
      ],
      "metadata": {
        "id": "XezOlsLxIYwv"
      },
      "execution_count": 1,
      "outputs": []
    },
    {
      "cell_type": "code",
      "source": [
        "population_size = 4\n",
        "mutation_rate = 0.1\n",
        "max_generations = 1000"
      ],
      "metadata": {
        "id": "jKDxXP2kIacU"
      },
      "execution_count": 2,
      "outputs": []
    },
    {
      "cell_type": "code",
      "source": [
        "def generate_individual():\n",
        "    ind = list(range(1, 9))\n",
        "    random.shuffle(ind)\n",
        "    return ind"
      ],
      "metadata": {
        "id": "-fZhaF6fIa06"
      },
      "execution_count": 3,
      "outputs": []
    },
    {
      "cell_type": "code",
      "source": [
        "def fitness(individual):\n",
        "    count = 0\n",
        "    for i in range(8):\n",
        "        for j in range(i + 1, 8):\n",
        "            if abs(i - j) != abs(individual[i] - individual[j]):\n",
        "                count += 1\n",
        "    return count"
      ],
      "metadata": {
        "id": "onAmMxEFIeuU"
      },
      "execution_count": 4,
      "outputs": []
    },
    {
      "cell_type": "code",
      "source": [
        "def crossover(parent1, parent2):\n",
        "    n = 8\n",
        "    i, j = sorted(random.sample(range(n), 2))\n",
        "\n",
        "    offspring1 = [None] * n\n",
        "    offspring2 = [None] * n\n",
        "\n",
        "    for k in range(i, j + 1):\n",
        "        offspring1[k] = parent1[k]\n",
        "\n",
        "    remaining1 = []\n",
        "    for x in parent2:\n",
        "        if x not in parent1[i:j + 1]:\n",
        "            remaining1.append(x)\n",
        "\n",
        "    idx = 0\n",
        "    for k in list(range(j + 1, n)) + list(range(0, i)):\n",
        "        offspring1[k] = remaining1[idx]\n",
        "        idx += 1\n",
        "\n",
        "    for k in range(i, j + 1):\n",
        "        offspring2[k] = parent2[k]\n",
        "\n",
        "    remaining2 = []\n",
        "    for x in parent1:\n",
        "        if x not in parent2[i:j + 1]:\n",
        "            remaining2.append(x)\n",
        "\n",
        "    idx = 0\n",
        "    for k in list(range(j + 1, n)) + list(range(0, i)):\n",
        "        offspring2[k] = remaining2[idx]\n",
        "        idx += 1\n",
        "\n",
        "    return offspring1, offspring2"
      ],
      "metadata": {
        "id": "F6B3iYYHIc4_"
      },
      "execution_count": 5,
      "outputs": []
    },
    {
      "cell_type": "code",
      "source": [
        "def mutate(individual):\n",
        "    i, j = random.sample(range(8), 2)\n",
        "    individual[i], individual[j] = individual[j], individual[i]\n",
        "    return individual"
      ],
      "metadata": {
        "id": "e7q4z2OjI2qX"
      },
      "execution_count": 6,
      "outputs": []
    },
    {
      "cell_type": "code",
      "source": [
        "population = []\n",
        "for _ in range(population_size):\n",
        "    population.append(generate_individual())\n",
        "\n",
        "fitness_list = []\n",
        "for ind in population:\n",
        "    fitness_list.append(fitness(ind))\n",
        "\n",
        "best_fitness_list = []\n",
        "generation = 0"
      ],
      "metadata": {
        "id": "2aVN-T04I3Jw"
      },
      "execution_count": 7,
      "outputs": []
    },
    {
      "cell_type": "code",
      "source": [
        "while generation < max_generations:\n",
        "    if max(fitness_list) == 28:\n",
        "        print(\"Solution found in generation\", generation)\n",
        "        break\n",
        "\n",
        "    best_fitness_list.append(max(fitness_list))\n",
        "\n",
        "    if generation % 100 == 0:\n",
        "        print(\"Generation \" + str(generation) + \": Best fitness \" + str(max(fitness_list)))\n",
        "\n",
        "    new_population = []\n",
        "    while len(new_population) < population_size:\n",
        "        parents = random.choices(population, weights=fitness_list, k=2)\n",
        "        parent1, parent2 = parents\n",
        "\n",
        "        offspring1, offspring2 = crossover(parent1, parent2)\n",
        "\n",
        "        if random.random() < mutation_rate:\n",
        "            offspring1 = mutate(offspring1)\n",
        "        if random.random() < mutation_rate:\n",
        "            offspring2 = mutate(offspring2)\n",
        "\n",
        "        new_population.append(offspring1)\n",
        "        new_population.append(offspring2)\n",
        "\n",
        "    population = new_population[:population_size]\n",
        "    fitness_list = [fitness(ind) for ind in population]\n",
        "    generation += 1\n",
        "else:\n",
        "    print(\"Max generations reached without finding a solution\")"
      ],
      "metadata": {
        "colab": {
          "base_uri": "https://localhost:8080/"
        },
        "id": "IBD6vU-0JH4U",
        "outputId": "46a86c3c-dcfa-49ff-ed62-8a0d448be658"
      },
      "execution_count": 8,
      "outputs": [
        {
          "output_type": "stream",
          "name": "stdout",
          "text": [
            "Generation 0: Best fitness 27\n",
            "Solution found in generation 54\n"
          ]
        }
      ]
    },
    {
      "cell_type": "code",
      "execution_count": 9,
      "metadata": {
        "colab": {
          "base_uri": "https://localhost:8080/"
        },
        "id": "vpvS2za6007h",
        "outputId": "c0c7f1af-51a2-4d39-a782-5651fce7e621"
      },
      "outputs": [
        {
          "output_type": "stream",
          "name": "stdout",
          "text": [
            "Solution: [2, 5, 7, 1, 3, 8, 6, 4]\n"
          ]
        }
      ],
      "source": [
        "if max(fitness_list) == 28:\n",
        "    solution_index = fitness_list.index(28)\n",
        "    solution = population[solution_index]\n",
        "    print(\"Solution:\", solution)"
      ]
    }
  ]
}